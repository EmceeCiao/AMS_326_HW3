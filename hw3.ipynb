{
 "cells": [
  {
   "cell_type": "markdown",
   "id": "6e48c9f5",
   "metadata": {},
   "source": [
    "# AMS 326 Numerical Analysis HW 3\n",
    "\n",
    "By: Mehadi Chowdhury (115112722)  \n",
    "\n",
    "Link to GitHub where README, PDF, IPYNB and Seperate Python Files will be hosted: https://github.com/EmceeCiao/AMS_326_HW3 \n",
    "\n",
    "## Background For Problem 3.1 \n",
    "\n",
    "\n",
    "<div style=\"text-align: center;\">\n",
    "    <img src=\"Problem_1.1.png\" alt=\"Description\" style=\"width:500px; border:2px solid black;\"/>\n",
    "</div> "
   ]
  },
  {
   "cell_type": "markdown",
   "id": "b1bcecaa",
   "metadata": {},
   "source": [
    "## Problem 3.1 Task X\n",
    "\n",
    "### Problem Description \n",
    "\n",
    "### Algorithm Description \n",
    "\n",
    "#### Psuedocode \n",
    "\n",
    "Example of Psuedocode for MonteCarlo! \n",
    "\n",
    "**Monte Carlo**\n",
    "\n",
    "$lowerbound \\leftarrow 0.50 $    \n",
    "$upperbound \\leftarrow 0.75 $      \n",
    "$lowerbound \\leftarrow lowerbound * 1000000 $       \n",
    "$upperbound \\leftarrow upperbound * 1000000 $     \n",
    "$FLOPS \\leftarrow 2$   \n",
    "$Iterations \\leftarrow 0$    \n",
    "$\\text{while} \\enspace True:$  \n",
    "&emsp; $Iterations \\enspace += 1$  \n",
    "&emsp; $FLOPS \\enspace += 6$   \n",
    "&emsp; guess = random number    \n",
    "&emsp; if abs(guess-actualroot) < tolerance:   \n",
    "&emsp;&emsp; FLOPS += 1   \n",
    "&emsp;&emsp; break\n",
    "\n",
    "#### Code "
   ]
  },
  {
   "cell_type": "code",
   "execution_count": null,
   "id": "0e2579d3",
   "metadata": {},
   "outputs": [],
   "source": []
  },
  {
   "cell_type": "markdown",
   "id": "eeee4058",
   "metadata": {},
   "source": [
    "### Results \n",
    "\n",
    "\n",
    "### Performance \n"
   ]
  },
  {
   "cell_type": "markdown",
   "id": "4e8de827",
   "metadata": {},
   "source": [
    "## Background For Problem 3.2\n",
    "\n",
    "\n",
    "<div style=\"text-align: center;\">\n",
    "    <img src=\"Problem_1.1.png\" alt=\"Description\" style=\"width:500px; border:2px solid black;\"/>\n",
    "</div> "
   ]
  },
  {
   "cell_type": "markdown",
   "id": "b9dfd48b",
   "metadata": {},
   "source": [
    "## Problem 3.2 Task 1\n",
    "\n",
    "### Problem Description \n",
    "\n",
    "### Algorithm Description \n",
    "\n",
    "#### Psuedocode \n",
    "\n",
    "Example of Psuedocode for MonteCarlo! \n",
    "\n",
    "**Monte Carlo**\n",
    "\n",
    "$lowerbound \\leftarrow 0.50 $    \n",
    "$upperbound \\leftarrow 0.75 $      \n",
    "$lowerbound \\leftarrow lowerbound * 1000000 $       \n",
    "$upperbound \\leftarrow upperbound * 1000000 $     \n",
    "$FLOPS \\leftarrow 2$   \n",
    "$Iterations \\leftarrow 0$    \n",
    "$\\text{while} \\enspace True:$  \n",
    "&emsp; $Iterations \\enspace += 1$  \n",
    "&emsp; $FLOPS \\enspace += 6$   \n",
    "&emsp; guess = random number    \n",
    "&emsp; if abs(guess-actualroot) < tolerance:   \n",
    "&emsp;&emsp; FLOPS += 1   \n",
    "&emsp;&emsp; break\n",
    "#### Code "
   ]
  },
  {
   "cell_type": "code",
   "execution_count": null,
   "id": "440ce586",
   "metadata": {},
   "outputs": [],
   "source": []
  },
  {
   "cell_type": "markdown",
   "id": "c5a2bdaf",
   "metadata": {},
   "source": [
    "### Results \n",
    "\n",
    "\n",
    "### Performance \n"
   ]
  },
  {
   "cell_type": "markdown",
   "id": "518ac322",
   "metadata": {},
   "source": [
    "\n",
    "## Background For Problem 3.3 \n",
    "\n",
    "<div style=\"text-align: center;\">\n",
    "    <img src=\"Problem_1.1.png\" alt=\"Description\" style=\"width:500px; border:2px solid black;\"/>\n",
    "</div> \n",
    "\n",
    "^ Sample Image! "
   ]
  },
  {
   "cell_type": "markdown",
   "id": "d46b463c",
   "metadata": {},
   "source": [
    "## Problem 3.3 Task 1\n",
    "\n",
    "### Problem Description \n",
    "\n",
    "### Algorithm Description \n",
    "\n",
    "#### Psuedocode \n",
    "\n",
    "Example of Psuedocode for MonteCarlo! \n",
    "\n",
    "**Monte Carlo**\n",
    "\n",
    "$lowerbound \\leftarrow 0.50 $    \n",
    "$upperbound \\leftarrow 0.75 $      \n",
    "$lowerbound \\leftarrow lowerbound * 1000000 $       \n",
    "$upperbound \\leftarrow upperbound * 1000000 $     \n",
    "$FLOPS \\leftarrow 2$   \n",
    "$Iterations \\leftarrow 0$    \n",
    "$\\text{while} \\enspace True:$  \n",
    "&emsp; $Iterations \\enspace += 1$  \n",
    "&emsp; $FLOPS \\enspace += 6$   \n",
    "&emsp; guess = random number    \n",
    "&emsp; if abs(guess-actualroot) < tolerance:   \n",
    "&emsp;&emsp; FLOPS += 1   \n",
    "&emsp;&emsp; break\n",
    "\n",
    "#### Code "
   ]
  },
  {
   "cell_type": "code",
   "execution_count": null,
   "id": "4002d208",
   "metadata": {},
   "outputs": [],
   "source": []
  },
  {
   "cell_type": "markdown",
   "id": "455447c6",
   "metadata": {},
   "source": [
    "### Results \n",
    "\n",
    "\n",
    "### Performance \n"
   ]
  }
 ],
 "metadata": {
  "kernelspec": {
   "display_name": "venv",
   "language": "python",
   "name": "python3"
  },
  "language_info": {
   "name": "python",
   "version": "3.13.1"
  }
 },
 "nbformat": 4,
 "nbformat_minor": 5
}
