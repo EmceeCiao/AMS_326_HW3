{
 "cells": [
  {
   "cell_type": "markdown",
   "metadata": {},
   "source": [
    "# AMS 326 Numerical Analysis HW X Problem Set X\n",
    "\n",
    "By: Mehadi Chowdhury (115112722)\n",
    "\n",
    "Link to GitHub where README, PDF, IPYNB and Seperate Python Files will be hosted: INSERT GIT LINK\n",
    "\n",
    "## Background For Problems \n",
    "\n",
    "<div style=\"text-align: center;\">\n",
    "    <img src=\"Problem_1.1.png\" alt=\"Description\" style=\"width:500px; border:2px solid black;\"/>\n",
    "</div> \n",
    "\n",
    "^ Sample Image! "
   ]
  },
  {
   "cell_type": "markdown",
   "metadata": {},
   "source": [
    "## Problem X \n",
    "\n",
    "### Problem Description \n",
    "\n",
    "### Algorithm Description \n",
    "\n",
    "#### Psuedocode \n",
    "\n",
    "Example of Psuedocode for MonteCarlo! \n",
    "\n",
    "**Monte Carlo**\n",
    "\n",
    "$lowerbound \\leftarrow 0.50 $    \n",
    "$upperbound \\leftarrow 0.75 $      \n",
    "$lowerbound \\leftarrow lowerbound * 1000000 $       \n",
    "$upperbound \\leftarrow upperbound * 1000000 $     \n",
    "$FLOPS \\leftarrow 2$   \n",
    "$Iterations \\leftarrow 0$    \n",
    "$\\text{while} \\enspace True:$  \n",
    "&emsp; $Iterations \\enspace += 1$  \n",
    "&emsp; $FLOPS \\enspace += 6$   \n",
    "&emsp; guess = random number    \n",
    "&emsp; if abs(guess-actualroot) < tolerance:   \n",
    "&emsp;&emsp; FLOPS += 1   \n",
    "&emsp;&emsp; break\n",
    "#### Code "
   ]
  },
  {
   "cell_type": "code",
   "execution_count": null,
   "metadata": {
    "vscode": {
     "languageId": "plaintext"
    }
   },
   "outputs": [],
   "source": []
  },
  {
   "cell_type": "markdown",
   "metadata": {},
   "source": [
    "### Results \n",
    "\n",
    "\n",
    "### Performance \n"
   ]
  }
 ],
 "metadata": {
  "language_info": {
   "name": "python"
  }
 },
 "nbformat": 4,
 "nbformat_minor": 2
}
